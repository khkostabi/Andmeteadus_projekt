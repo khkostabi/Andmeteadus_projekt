{
 "cells": [
  {
   "cell_type": "code",
   "execution_count": 1,
   "id": "74f01876",
   "metadata": {},
   "outputs": [],
   "source": [
    "import matplotlib.pyplot as plt \n",
    "import numpy as np\n",
    "import pandas as pd\n",
    "from sklearn.model_selection import train_test_split\n",
    "from sklearn.ensemble import RandomForestClassifier\n",
    "from sklearn import metrics\n",
    "from sklearn.linear_model import LogisticRegression"
   ]
  },
  {
   "cell_type": "code",
   "execution_count": null,
   "id": "a4df7722",
   "metadata": {},
   "outputs": [],
   "source": [
    "#For some reasons if I start the program from beginning it gives me an error on the 2nd accuracy and 3rd. But when\n",
    "#I start with the 3rd accuraccy first it seems to work. Couldn't fix the problem due to time problems.\n"
   ]
  },
  {
   "cell_type": "code",
   "execution_count": 3,
   "id": "d150bb5c",
   "metadata": {},
   "outputs": [],
   "source": [
    "#we make each team start with 2000 ELO\n",
    "#Ideas to create ELO systems are from: https://en.wikipedia.org/wiki/Elo_rating_system#Mathematical_details\n",
    "df = pd.read_csv(\"results.csv\")\n",
    "df.sort_values(\"date\", inplace = True)\n",
    "df.dropna(inplace = True)\n",
    "elos = {}\n",
    "i = 0\n",
    "for row in df[\"home_team\"]:\n",
    "    key = df[\"home_team\"][i]\n",
    "    key2 = df[\"away_team\"][i]\n",
    "    if (key not in elos):\n",
    "        elos[key] = 2000\n",
    "    elif (key2 not in elos):\n",
    "        elos[key2] = 2000\n",
    "    i += 1\n",
    "#1st elo rating works like:\n",
    "#win = +400 elo\n",
    "#loss = -400 elo\n",
    "i=0\n",
    "for row in df[\"home_team\"]:\n",
    "    home_score = df[\"home_score\"][i]\n",
    "    away_score = df[\"away_score\"][i]\n",
    "    if (home_score > away_score):\n",
    "        elos[df[\"home_team\"][i]] += 400\n",
    "        elos[df[\"away_team\"][i]] -= 400\n",
    "    else:\n",
    "        elos[df[\"home_team\"][i]] -= 400\n",
    "        elos[df[\"away_team\"][i]] += 400\n",
    "    i += 1\n",
    "values = elos.values()"
   ]
  },
  {
   "cell_type": "code",
   "execution_count": null,
   "id": "91ff1c71",
   "metadata": {},
   "outputs": [],
   "source": [
    "plt.bar(range(len(elos)), values)\n",
    "plt.show()"
   ]
  },
  {
   "cell_type": "code",
   "execution_count": 7,
   "id": "99bdcafc",
   "metadata": {},
   "outputs": [
    {
     "name": "stderr",
     "output_type": "stream",
     "text": [
      "c:\\users\\brandonr\\appdata\\local\\programs\\thonny\\lib\\site-packages\\ipykernel_launcher.py:11: SettingWithCopyWarning: \n",
      "A value is trying to be set on a copy of a slice from a DataFrame\n",
      "\n",
      "See the caveats in the documentation: https://pandas.pydata.org/pandas-docs/stable/user_guide/indexing.html#returning-a-view-versus-a-copy\n",
      "  # This is added back by InteractiveShellApp.init_path()\n",
      "c:\\users\\brandonr\\appdata\\local\\programs\\thonny\\lib\\site-packages\\ipykernel_launcher.py:12: SettingWithCopyWarning: \n",
      "A value is trying to be set on a copy of a slice from a DataFrame\n",
      "\n",
      "See the caveats in the documentation: https://pandas.pydata.org/pandas-docs/stable/user_guide/indexing.html#returning-a-view-versus-a-copy\n",
      "  if sys.path[0] == '':\n",
      "c:\\users\\brandonr\\appdata\\local\\programs\\thonny\\lib\\site-packages\\ipykernel_launcher.py:13: SettingWithCopyWarning: \n",
      "A value is trying to be set on a copy of a slice from a DataFrame\n",
      "\n",
      "See the caveats in the documentation: https://pandas.pydata.org/pandas-docs/stable/user_guide/indexing.html#returning-a-view-versus-a-copy\n",
      "  del sys.path[0]\n",
      "c:\\users\\brandonr\\appdata\\local\\programs\\thonny\\lib\\site-packages\\ipykernel_launcher.py:10: SettingWithCopyWarning: \n",
      "A value is trying to be set on a copy of a slice from a DataFrame\n",
      "\n",
      "See the caveats in the documentation: https://pandas.pydata.org/pandas-docs/stable/user_guide/indexing.html#returning-a-view-versus-a-copy\n",
      "  # Remove the CWD from sys.path while we load stuff.\n",
      "c:\\users\\brandonr\\appdata\\local\\programs\\thonny\\lib\\site-packages\\ipykernel_launcher.py:15: SettingWithCopyWarning: \n",
      "A value is trying to be set on a copy of a slice from a DataFrame\n",
      "\n",
      "See the caveats in the documentation: https://pandas.pydata.org/pandas-docs/stable/user_guide/indexing.html#returning-a-view-versus-a-copy\n",
      "  from ipykernel import kernelapp as app\n"
     ]
    }
   ],
   "source": [
    "#1st prediction accuracy\n",
    "df[\"H_elo\"] = 0\n",
    "df[\"A_elo\"] = 0\n",
    "df[\"home_team_advantage\"] = 1\n",
    "df[\"elo_diff\"] = 0\n",
    "df[\"Result\"] = 0\n",
    "i = 0\n",
    "for row in df[\"home_team\"]:\n",
    "    if (df[\"home_score\"][i] > df[\"away_score\"][i]):\n",
    "        df[\"Result\"][i] = 1\n",
    "    df[\"H_elo\"][i] = elos[df[\"home_team\"][i]]\n",
    "    df[\"A_elo\"][i] = elos[df[\"away_team\"][i]]\n",
    "    df[\"elo_diff\"][i] = elos[df[\"home_team\"][i]] - elos[df[\"away_team\"][i]]\n",
    "    if(df[\"home_score\"][i] > df[\"away_score\"][i]):\n",
    "        df[\"home_team_advantage\"][i] = 2\n",
    "    i += 1"
   ]
  },
  {
   "cell_type": "code",
   "execution_count": null,
   "id": "6fc8ffa7",
   "metadata": {},
   "outputs": [],
   "source": [
    "X = df[[\"elo_diff\", 'A_elo', 'H_elo', \"home_team_advantage\"]].copy()\n",
    "y = df[\"Result\"]\n",
    "X_train, X_test, y_train, y_test = train_test_split(X,y,test_size=.3, random_state=42)\n",
    "logreg = LogisticRegression(C=0.0001)\n",
    "model = logreg.fit(X_train,y_train)\n",
    "log_y_pred=logreg.predict(X_test)"
   ]
  },
  {
   "cell_type": "code",
   "execution_count": null,
   "id": "b90df28e",
   "metadata": {},
   "outputs": [],
   "source": [
    "rf = RandomForestClassifier(n_estimators=500)\n",
    "rf.fit(X_train, y_train)\n",
    "rf_pred = rf.predict(X_test)\n",
    "#1st ELO system accuracy\n",
    "print(\"Accuracy:\",metrics.accuracy_score(y_test, log_y_pred))"
   ]
  },
  {
   "cell_type": "code",
   "execution_count": null,
   "id": "8a216aa3",
   "metadata": {},
   "outputs": [],
   "source": [
    "#We'll keep the starting elo still at 2000 but we will use different formula for calculating the ELO.\n",
    "eloWidth = 400\n",
    "kFactor = 32\n",
    "for i in elos:\n",
    "    elos[i] = 2000\n",
    "def newElo(winnerElo, loserElo, winner, loser):\n",
    "    expectedWinner = results(winnerElo, loserElo)\n",
    "    eloChange = kFactor * (1-expectedWinner)\n",
    "    elos[winner] += eloChange\n",
    "    elos[loser] -= eloChange\n",
    "def results(eloA, eloB):\n",
    "    expected = 1.0/(1+10**((eloB - eloA)/eloWidth))\n",
    "    return expected\n",
    "i = 0\n",
    "for row in df[\"home_team\"]:\n",
    "    home_score = df[\"home_score\"][i]\n",
    "    away_score = df[\"away_score\"][i]\n",
    "    if (home_score > away_score):\n",
    "       newElo(elos[df[\"home_team\"][i]], elos[df[\"away_team\"][i]], df[\"home_team\"][i], df[\"away_team\"][i])\n",
    "    else:\n",
    "       newElo(elos[df[\"away_team\"][i]], elos[df[\"home_team\"][i]], df[\"away_team\"][i], df[\"home_team\"][i])\n",
    "    i+=1\n",
    "values = elos.values()"
   ]
  },
  {
   "cell_type": "code",
   "execution_count": null,
   "id": "1c035cb7",
   "metadata": {},
   "outputs": [],
   "source": [
    "plt.bar(range(len(elos)), values)\n",
    "plt.show()"
   ]
  },
  {
   "cell_type": "code",
   "execution_count": null,
   "id": "b848d225",
   "metadata": {},
   "outputs": [],
   "source": [
    "#2nd prediciton accuracy\n",
    "df[\"H_elo\"] = 0\n",
    "df[\"A_elo\"] = 0\n",
    "df[\"home_team_advantage\"] = 1\n",
    "df[\"elo_diff\"] = 0\n",
    "df[\"Result\"] = 0\n",
    "i = 0\n",
    "for row in df[\"home_team\"]:\n",
    "    df[\"H_elo\"][i] = elos[df[\"home_team\"][i]]\n",
    "    df[\"A_elo\"][i] = elos[df[\"away_team\"][i]]\n",
    "    df[\"elo_diff\"][i] = elos[df[\"home_team\"][i]] - elos[df[\"away_team\"][i]]\n",
    "    i += 1"
   ]
  },
  {
   "cell_type": "code",
   "execution_count": null,
   "id": "945aea82",
   "metadata": {},
   "outputs": [],
   "source": [
    "X = df[[\"elo_diff\", 'A_elo', 'H_elo', \"home_team_advantage\"]].copy()\n",
    "y = df[\"Result\"]\n",
    "X_train, X_test, y_train, y_test = train_test_split(X,y,test_size=.3, random_state=42)\n",
    "logreg = LogisticRegression(C=0.0001)\n",
    "model = logreg.fit(X_train,y_train)\n",
    "log_y_pred=logreg.predict(X_test)"
   ]
  },
  {
   "cell_type": "code",
   "execution_count": null,
   "id": "c49e7eae",
   "metadata": {},
   "outputs": [],
   "source": [
    "rf = RandomForestClassifier(n_estimators=500)\n",
    "rf.fit(X_train, y_train)\n",
    "rf_pred = rf.predict(X_test)\n",
    "#2nd ELO system accuracy\n",
    "print(\"Accuracy:\",metrics.accuracy_score(y_test, log_y_pred))"
   ]
  },
  {
   "cell_type": "code",
   "execution_count": 8,
   "id": "c2cf50fa",
   "metadata": {},
   "outputs": [],
   "source": [
    "#3rd formula is inspired by https://en.wikipedia.org/wiki/World_Football_Elo_Ratings\n",
    "#Rn = Ro + P where Rn is new rating, Ro is old rating and P is change in points\n",
    "#P = KG(W-We) K is a factor that changes with the difficulty of the tournament, G is number from goal diff index, W is the result of the match, We is expected winner\n",
    "for i in elos:\n",
    "    elos[i] = 2000\n",
    "\n",
    "K = 25 #Since my data consists mostly friendly(K=20) and random tournaments(K=30) im going to add two K values and divide them by 2.\n",
    "def goalies(homeScore, awayScore):\n",
    "    if (np.absolute(homeScore - awayScore) < 2):\n",
    "        return 1\n",
    "    elif (np.absolute(homeScore - awayScore) < 3):\n",
    "        return 3/2\n",
    "    else:\n",
    "        return (11+np.absolute(homeScore-awayScore))/8\n",
    "def eloUpdate(W, G, We, K):\n",
    "    return K*G*(W-We)\n",
    "def winPred(elo1, elo2):\n",
    "    elo1 += 100 #home team gets +100 elo\n",
    "    dr = np.absolute(elo1-elo2) \n",
    "    return 1/(10**(-dr/400)+1)\n",
    "i = 0\n",
    "for row in df[\"home_team\"]:\n",
    "    home_score = df[\"home_score\"][i]\n",
    "    away_score = df[\"away_score\"][i]\n",
    "    home_elo = elos[df[\"home_team\"][i]]\n",
    "    away_elo = elos[df[\"away_team\"][i]]\n",
    "    G = goalies(home_score, away_score)\n",
    "    We = winPred(home_elo, away_elo)\n",
    "    if (home_score > away_score):\n",
    "        home_elo += eloUpdate(1,G,We,K)\n",
    "        away_elo += eloUpdate(0,G,1-We,K)\n",
    "    else:\n",
    "        home_elo += eloUpdate(0,G,We,K)\n",
    "        away_elo += eloUpdate(1,G,1-We,K)\n",
    "    elos[df[\"home_team\"][i]] = home_elo\n",
    "    elos[df[\"away_team\"][i]] = away_elo\n",
    "    i+=1\n",
    "values = elos.values()"
   ]
  },
  {
   "cell_type": "code",
   "execution_count": 5,
   "id": "3840ebb8",
   "metadata": {},
   "outputs": [
    {
     "data": {
      "image/png": "[encoded data removed]",
      "text/plain": [
       "<Figure size 432x288 with 1 Axes>"
      ]
     },
     "metadata": {
      "needs_background": "light"
     },
     "output_type": "display_data"
    }
   ],
   "source": [
    "plt.bar(range(len(elos)), values)\n",
    "plt.show()"
   ]
  },
  {
   "cell_type": "code",
   "execution_count": 9,
   "id": "78a4a986",
   "metadata": {},
   "outputs": [
    {
     "name": "stderr",
     "output_type": "stream",
     "text": [
      "c:\\users\\brandonr\\appdata\\local\\programs\\thonny\\lib\\site-packages\\ipykernel_launcher.py:3: SettingWithCopyWarning: \n",
      "A value is trying to be set on a copy of a slice from a DataFrame\n",
      "\n",
      "See the caveats in the documentation: https://pandas.pydata.org/pandas-docs/stable/user_guide/indexing.html#returning-a-view-versus-a-copy\n",
      "  This is separate from the ipykernel package so we can avoid doing imports until\n",
      "c:\\users\\brandonr\\appdata\\local\\programs\\thonny\\lib\\site-packages\\ipykernel_launcher.py:4: SettingWithCopyWarning: \n",
      "A value is trying to be set on a copy of a slice from a DataFrame\n",
      "\n",
      "See the caveats in the documentation: https://pandas.pydata.org/pandas-docs/stable/user_guide/indexing.html#returning-a-view-versus-a-copy\n",
      "  after removing the cwd from sys.path.\n",
      "c:\\users\\brandonr\\appdata\\local\\programs\\thonny\\lib\\site-packages\\ipykernel_launcher.py:5: SettingWithCopyWarning: \n",
      "A value is trying to be set on a copy of a slice from a DataFrame\n",
      "\n",
      "See the caveats in the documentation: https://pandas.pydata.org/pandas-docs/stable/user_guide/indexing.html#returning-a-view-versus-a-copy\n",
      "  \"\"\"\n"
     ]
    }
   ],
   "source": [
    "i = 0\n",
    "for row in df[\"home_team\"]:\n",
    "    df[\"H_elo\"][i] = elos[df[\"home_team\"][i]]\n",
    "    df[\"A_elo\"][i] = elos[df[\"away_team\"][i]]\n",
    "    df[\"elo_diff\"][i] = elos[df[\"home_team\"][i]] - elos[df[\"away_team\"][i]]\n",
    "    i += 1"
   ]
  },
  {
   "cell_type": "code",
   "execution_count": 10,
   "id": "e69af77c",
   "metadata": {},
   "outputs": [],
   "source": [
    "X = df[[\"elo_diff\", 'A_elo', 'H_elo', \"home_team_advantage\"]].copy()\n",
    "y = df[\"Result\"]\n",
    "X_train, X_test, y_train, y_test = train_test_split(X,y,test_size=.3, random_state=42)\n",
    "logreg = LogisticRegression(C=0.0001)\n",
    "model = logreg.fit(X_train,y_train)\n",
    "log_y_pred=logreg.predict(X_test)"
   ]
  },
  {
   "cell_type": "code",
   "execution_count": 11,
   "id": "aba15084",
   "metadata": {},
   "outputs": [
    {
     "name": "stdout",
     "output_type": "stream",
     "text": [
      "Accuracy: 0.8249961282329255\n"
     ]
    }
   ],
   "source": [
    "rf = RandomForestClassifier(n_estimators=500)\n",
    "rf.fit(X_train, y_train)\n",
    "rf_pred = rf.predict(X_test)\n",
    "#3rd ELO system accuracy\n",
    "print(\"Accuracy:\",metrics.accuracy_score(y_test, log_y_pred))"
   ]
  }
 ],
 "metadata": {
  "kernelspec": {
   "display_name": "Python 3 (ipykernel)",
   "language": "python",
   "name": "python3"
  },
  "language_info": {
   "codemirror_mode": {
    "name": "ipython",
    "version": 3
   },
   "file_extension": ".py",
   "mimetype": "text/x-python",
   "name": "python",
   "nbconvert_exporter": "python",
   "pygments_lexer": "ipython3",
   "version": "3.7.7"
  }
 },
 "nbformat": 4,
 "nbformat_minor": 5
}
