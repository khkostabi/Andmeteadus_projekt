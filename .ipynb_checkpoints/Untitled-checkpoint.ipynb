{
 "cells": [
  {
   "cell_type": "code",
   "execution_count": 1,
   "id": "401e2fbf",
   "metadata": {},
   "outputs": [],
   "source": [
    "import matplotlib.pyplot as plt \n",
    "import numpy as np\n",
    "import pandas as pd"
   ]
  },
  {
   "cell_type": "code",
   "execution_count": 33,
   "id": "970d16e6",
   "metadata": {},
   "outputs": [
    {
     "name": "stdout",
     "output_type": "stream",
     "text": [
      "England\n",
      "1\n",
      "England\n",
      "1\n",
      "England\n",
      "1\n",
      "England\n",
      "1\n",
      "England\n",
      "1\n",
      "England\n",
      "1\n",
      "England\n",
      "1\n",
      "England\n",
      "1\n",
      "England\n",
      "1\n"
     ]
    }
   ],
   "source": [
    "#we make each team start with 2000 ELO\n",
    "df = pd.read_csv(\"results.csv\")\n",
    "elo_width = 400\n",
    "factor = 64\n",
    "df.sort_values(\"date\", inplace = True)\n",
    "elos = {}\n",
    "i = 0\n",
    "for row in df:\n",
    "    key = df[\"away_team\"][i]\n",
    "    print(key)\n",
    "    i+=1\n",
    "    print(i)\n",
    "#1st elo rating works like:\n",
    "#win = +400 elo\n",
    "#loss = -400 elo"
   ]
  }
 ],
 "metadata": {
  "kernelspec": {
   "display_name": "Python 3 (ipykernel)",
   "language": "python",
   "name": "python3"
  },
  "language_info": {
   "codemirror_mode": {
    "name": "ipython",
    "version": 3
   },
   "file_extension": ".py",
   "mimetype": "text/x-python",
   "name": "python",
   "nbconvert_exporter": "python",
   "pygments_lexer": "ipython3",
   "version": "3.7.7"
  }
 },
 "nbformat": 4,
 "nbformat_minor": 5
}
